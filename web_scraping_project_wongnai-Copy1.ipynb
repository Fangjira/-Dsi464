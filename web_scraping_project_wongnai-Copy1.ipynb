{
 "cells": [
  {
   "cell_type": "code",
   "execution_count": 31,
   "id": "20fa3ede",
   "metadata": {},
   "outputs": [],
   "source": [
    "from selenium import webdriver\n",
    "import bs4\n",
    "from bs4 import BeautifulSoup\n",
    "import pandas as pd\n",
    "from selenium.webdriver.chrome.options import Options\n",
    "from selenium.webdriver.chrome.service import Service\n",
    "import re\n",
    "import time\n",
    "import requests\n",
    "from selenium.webdriver.common.by import By\n",
    "from selenium.webdriver.support.ui import WebDriverWait\n",
    "from selenium.webdriver.support import expected_conditions as EC"
   ]
  },
  {
   "cell_type": "code",
   "execution_count": 32,
   "id": "60292106",
   "metadata": {},
   "outputs": [],
   "source": [
    "# Set the path to your Chrome WebDriver executable\n",
    "chrome_driver_path = r'C:\\Users\\MSI\\jupyter python\\web_scraping/chromedriver2.exe'"
   ]
  },
  {
   "cell_type": "code",
   "execution_count": 33,
   "id": "c383f2e9",
   "metadata": {},
   "outputs": [],
   "source": [
    "# open Chrome WebDriver\n",
    "service = Service(executable_path=chrome_driver_path)\n",
    "options = webdriver.ChromeOptions()\n",
    "driver = webdriver.Chrome(service=service, options=options)"
   ]
  },
  {
   "cell_type": "code",
   "execution_count": 34,
   "id": "1d0245db",
   "metadata": {},
   "outputs": [],
   "source": [
    "link_list = []  \n",
    "review_list = [] \n",
    "review_link_list = []"
   ]
  },
  {
   "cell_type": "code",
   "execution_count": 35,
   "id": "a28a20ea",
   "metadata": {},
   "outputs": [],
   "source": [
    "url = 'https://www.wongnai.com/attractions/325708VJ-%E0%B8%A7%E0%B8%99%E0%B8%AD%E0%B8%B8%E0%B8%97%E0%B8%A2%E0%B8%B2%E0%B8%99%E0%B8%9B%E0%B8%A3%E0%B8%B2%E0%B8%93%E0%B8%9A%E0%B8%B8%E0%B8%A3%E0%B8%B5?_st=cD0wO2I9MzI1NzA4O2FkPWZhbHNlO3Q9MTY5ODc1MTA3MDc1MTtyaT0xWDdhclU4dWd1NG9YbGxiN2VkOTJHZlhJbVNMOWE7aT0xWDcwS251VkdVckdFbFBoSTN0SWZMczYxZlQ1TDA7d3JlZj1zcjs%3D'\n",
    "driver.get(url)\n",
    "data = driver.page_source\n",
    "soup = bs4.BeautifulSoup(data)"
   ]
  },
  {
   "cell_type": "code",
   "execution_count": 14,
   "id": "ec12980e",
   "metadata": {},
   "outputs": [],
   "source": [
    "link_element = soup.find_all(class_='sc-1gcav05-0 caARHI relative break-word text-gray-550 rg14')\n",
    "\n",
    "for element in link_element:\n",
    "    link = element.find('a')\n",
    "    if link:\n",
    "        link_url = link.get('href')\n",
    "        review_link_list.append(link_url)"
   ]
  },
  {
   "cell_type": "code",
   "execution_count": 10,
   "id": "f4089d11",
   "metadata": {},
   "outputs": [
    {
     "data": {
      "text/plain": [
       "['reviews/8c0f6a0dd2c14cf6a1cd351a3a9ebb7a',\n",
       " 'reviews/7a70ce7f1cdd455c8d4df1c5fb70f1d6',\n",
       " 'reviews/2537cf04e90a4ab3a01baaec8d587d5f',\n",
       " 'reviews/fb84e589091e4e9bafc130e2dcb1a5a3',\n",
       " 'reviews/8c73663e3e244ea49f9f2191755f5812',\n",
       " 'reviews/2f606a1616c14556a653304f31c202a8']"
      ]
     },
     "execution_count": 10,
     "metadata": {},
     "output_type": "execute_result"
    }
   ],
   "source": [
    "review_link_list"
   ]
  },
  {
   "cell_type": "code",
   "execution_count": 15,
   "id": "c1a0b9bf",
   "metadata": {},
   "outputs": [],
   "source": [
    "url = r'https://www.wongnai.com/reviews/8c0f6a0dd2c14cf6a1cd351a3a9ebb7a'\n",
    "driver.get(url)\n",
    "data = driver.page_source\n",
    "soup = bs4.BeautifulSoup(data)"
   ]
  },
  {
   "cell_type": "code",
   "execution_count": 29,
   "id": "35a1e866",
   "metadata": {},
   "outputs": [],
   "source": [
    "# Set the path to your Chrome WebDriver executable\n",
    "chrome_driver_path = r'C:\\Users\\MSI\\jupyter python\\web_scraping/chromedriver2.exe'\n",
    "options = Options()\n",
    "options.add_argument('--headless')  # Run Chrome in headless mode\n",
    "options.add_argument('user-agent=Mozilla/5.0 (Windows NT 10.0; Win64; x64) AppleWebKit/537.36 (KHTML, like Gecko) Chrome/58.0.3029.110 Safari/537.36')\n",
    "\n",
    "review_list = []\n",
    "\n",
    "for review in review_link_list:\n",
    "    # Open Chrome WebDriver\n",
    "    service = Service(executable_path=chrome_driver_path)\n",
    "    driver = webdriver.Chrome(service=service, options=options)\n",
    "    \n",
    "    full_url = 'https://www.wongnai.com/' + review\n",
    "    driver.get(full_url)\n",
    "    time.sleep(3)\n",
    "    \n",
    "    data = driver.page_source\n",
    "    soup = bs4.BeautifulSoup(data, 'html.parser')\n",
    "\n",
    "    # Find the first element with the specified class\n",
    "    review_element = soup.find(class_='sc-1gcav05-0 caARHI relative break-word text-gray-550 rg14')\n",
    "    \n",
    "    if review_element:\n",
    "        review_list.append(review_element.text)\n",
    "    \n",
    "    driver.quit()  # Close the Chrome WebDriver to repeat the process for the next link"
   ]
  },
  {
   "cell_type": "code",
   "execution_count": 16,
   "id": "ff91dbc8",
   "metadata": {},
   "outputs": [],
   "source": [
    "review_elements = soup.find_all(class_=\"sc-1gcav05-0 caARHI relative break-word text-gray-550 rg14\")\n",
    "for review in review_elements:\n",
    "    review_list.append(review.text)"
   ]
  },
  {
   "cell_type": "code",
   "execution_count": 30,
   "id": "ab0c309f",
   "metadata": {},
   "outputs": [
    {
     "data": {
      "text/plain": [
       "['#Wongnaisongkran2023\\r\\n\\r\\n4.5 ดาว\\r\\n\\r\\nวนอุทยานปราณบุรีตั้งอยู่บริเวณปากน้ำปราณ จ.ประจวบคีรีขันธ์ เป็นโครงการพัฒนาป่าไม้ปราณบุรีอันเนื่องมาจากพระราชดำริที่มีสะพานทางเดินศึกษาธรรมชาติป่าชายเลน พร้อมด้วยป้ายสื่อความหมายต่างๆ ที่คอยให้คำอธิบายตามเส้นทาง ไม่เก็บค่าเข้าชมด้วย \\r\\n\\r\\nเส้นทางเดินเป็นสะพานไม้ยาวประมาณ 1 กิโลเมตร ถ้าจะเดินให้ครบรอบก็จะใช้เวลาประมาณครึ่งชั่วโมง ไปช่วงเช้าๆ หรือเย็นๆ ที่แดดไม่ร้อนจะดีกว่า ระหว่างทางเราจะเห็นป่าอุดมสมบูรณ์ที่มีต้นไม้แน่นขนัด มีปูมีหอยอาศัยอยู่ มีป้ายบอกชื่อต้นไม้และสัตว์ต่างๆ เหมาะสำหรับพาเด็กๆ ไปเดินเที่ยวเหมือนเป็นห้องเรียนทางธรรมชาติ อากาศดีมากๆ ระหว่างทางได้ร่มเงาไม้ช่วยกันแดด\\r\\n\\r\\nด้านในมีทุ่งโปรงทองที่สวยงามอลังการสุดลูกหูลูกตา ใบโปรงมีสีเขียวอมเหลือง (Yellowish Green) เราสามารถขึ้นไปยังหอชมวิวที่ช่วยให้เห็นวิวจากที่สูงได้อย่างเต็มตา แต่ตอนที่เราไปเจอกลุ่มนักท่องเที่ยวกลุ่มใหญ่ส่งเสียงดังถ่ายรูปถ่ายคลิปเต้นอยู่บนหอชมวิวกัน ถ้าใครไปเที่ยวก็ช่วยกันรักษาความสงบหน่อย',\n",
       " 'ได้ยินชื่อเสียงของวนอุทยานปราณบุรีมานาน แต่ไม่ได้มาสักครั้ง แต่พอมาแล้วรู้สึกชอบและติดใจมากๆ\\r\\n\\r\\nวนอุทยานปราณบุรีอยู่อ.ปราณบุรี จ.ประจวบคีรีขันธ์ โดยเป็นพื้นที่คุ้มครองและมีเจ้าหน้าที่ทหารคอยดูแล สามารถเข้าชมฟรีไม่มีค่าใช้จ่าย แนะนำให้ขับรถเข้ามามีที่จอดรถมากเพียงพอ และห้องน้ำก็สะอาด\\r\\n\\r\\nหลักๆของการมา ขอแนะนำให้เดินเส้นทางธรรมชาติมีระยะทาง 1 กม. โดยให้เดินตามทางจะกลับมายังจุดเดิมเป็นวงกลม ซึ่งตลอดทางจะได้รับชมาป่าโกงกาง ปูหลากหลายชนิด ต้นไม้แปลกๆ โดยระหว่างทาง ยังมีบริการล่องเรือตามความสมัครใจด้วย และมีส่วนที่เป็นหอชมวิวขึ้นไปถ่ายรูปได้อีกด้วย ถือว่าการมาศึกษาธรรมชาติ พักผ่อน และถ่ายรูปวิวสวยๆมากมาย\\r\\n\\r\\nโดยรวมแล้วชอบมากและจะหาโอกาสมาอีกอย่างแน่นอน\\r\\n\\r\\n#Wongnaisongkran2023',\n",
       " '... วนอุทยานปราณบุรี ที่นี่เป็นแหล่งท่องเที่ยวและจุดพักผ่อนหย่อนใจที่ส่วนตัวเราชอบมากนะ มีครบทั้งทิวสนร่มรื่น สามารถนั่งพักตามจุดต่าง ๆ หลบลมร้อนได้ หรือจะเดินเล่นชิลล์ ๆ ตอนนี้มีคาเฟ่เครื่องดื่มด้วยนะ 🤩🤩🤩\\n\\n. . . โซนทะเลและชายหาด มีความสงบและสวยงามใช้ได้เลย อีกฝั่งมีป่าโกงกาง สามารถเดินชมศึกษาธรรมชาติได้เหมือนกัน ซึ่งเราเคยไปบ่อย ๆ แล้ว ครั้งหลังสุดแวะไปแค่ด้านที่เป็นทะเล ไม่มีภาพป่าโกงกางมาลงให้ดูนะ 😄😄😄\\n\\n... ลานกางเต็นท์และบ้านพัก สามารถติดต่อเจ้าหน้าที่ได้ ภาพรวมสะอาดดี มีโอกาสลองแวะไปพักผ่อนกันได้ครับ 👍👍👍',\n",
       " 'วนอุทยานปราณบุรี จังหวัดประจวบคีรีขันธ์ \\nอยู่ระหว่างหัวหินและตัวเมืองประจวบ สามารถแวะเที่ยวที่นี่เพียงครึ่งวันได้ แล้วไปเที่ยวต่อที่อื่นๆ \\nที่นี่จะมีเส้นทางศึกษาธรรมชาติป่าชายเลน ระยะทางประมาณ 1 กิโลเมตร ยุงค่อนข้างเยอะเลย ฉีดยากันยุงมาก่อนก็ดี\\nภายในป่าโกงกางสวยงาม ต้นโกงกางแผ่รากยิ่งใหญ่มาก แปลกตาดี เป็นธรรมชาติที่ไม่ได้พบเห็นทั่วไป \\nเดินลึกเข้าไปอีกจะมีหอคอยไม้ให้ขึ้นไปดูวิวได้ เห็นภาพแบบ 360 องศาเลย สวยงามเขียวไปทั่ว มีมุมถ่ายรูปเยอะ ได้รูปกลับไปแน่นอน\\n\\nภายในอุทยานมีร้านค้า และมีห้องน้ำให้บริการฟรี สะดวกมาก รวมถึงมีศาลาให้นั่งพักผ่อนหย่อนใจด้วย\\n\\n#WongnaiHNY2023',\n",
       " '...วนอุทยานปราณบุรี (ประจวบคีรีขันธ์) ที่เที่ยวแนวธรรมชาติป่าชายเลน อีกหนึ่งจุดหมายที่ต้องมาสำหรับผู้ที่รักธรรมชาติ อยู่ห่างจากหัวหินไม่ไกล ประมาณ 20 กิโลเมตร   \\n\\n...ภายในอุทยานมีผืนป่าชายเลนอุดมสมบูรณ์กว้างใหญ่ ทุ่งโปร่งทองสวยงาม ไฮไลท์ที่นักท่องเที่ยวส่วนใหญ่นิยมแวะพักถ่ายรูป คือหอชมวิว ที่สามารถมองเห็นป่าชายเลนที่สวยงามได้ไกลสุดตา',\n",
       " '🌿 มาเที่ยว #ปราณบุรี ก็ต้องแวะมาที่ วนอุทยาน ปราณบุรีค่ะ ชอบที่นี่มากค่ะ ที่นี่ป็น #ป่ายชายเลน ที่สมบูรณ์มาก ภายในในทางเดินไม้ให้เดินแข็งแรงและปลอดภัย ตลอดทางมีป้ายแนะนำต้นไม้ต่างๆ และมีบอกจุดส่องปู \\n\\n🌿 ไฮไลต์ที่ห้ามพลาด คือ #ทุ่งโปรงทอง และหอชมวิว ที่สามารถชมทุ่งโปรงทองสวยๆ และชมป่าชายเลนได้ไกลสุดลูกหูลูกตา \\n\\n💸 ไม่เสียค่าเข้านะคะ\\n🍡 บริเวณนี้มีร้านค้าเล็กๆ และมีห้องน้ำให้เข้าค่ะ\\n\\n\\n📌 Pran Buri Forest Park\\n061 464 4951\\nhttps://maps.app.goo.gl/2t3Kazy6WGURLSts5\\n\\n📌 Mangrove forest walk road\\nhttps://maps.app.goo.gl/nJVQ1pqqckQBvRTy5']"
      ]
     },
     "execution_count": 30,
     "metadata": {},
     "output_type": "execute_result"
    }
   ],
   "source": [
    "review_list"
   ]
  },
  {
   "cell_type": "code",
   "execution_count": null,
   "id": "44a8a887",
   "metadata": {},
   "outputs": [],
   "source": []
  }
 ],
 "metadata": {
  "kernelspec": {
   "display_name": "Python 3",
   "language": "python",
   "name": "python3"
  },
  "language_info": {
   "codemirror_mode": {
    "name": "ipython",
    "version": 3
   },
   "file_extension": ".py",
   "mimetype": "text/x-python",
   "name": "python",
   "nbconvert_exporter": "python",
   "pygments_lexer": "ipython3",
   "version": "3.6.13"
  }
 },
 "nbformat": 4,
 "nbformat_minor": 5
}
