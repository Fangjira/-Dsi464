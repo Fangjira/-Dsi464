{
 "cells": [
  {
   "cell_type": "code",
   "execution_count": 1,
   "id": "cfacaa15",
   "metadata": {},
   "outputs": [],
   "source": [
    "import pandas as pd\n",
    "import numpy as np\n",
    "import matplotlib.pyplot as plt\n",
    "from typing import Collection, Callable, Tuple\n",
    "\n",
    "__all__ = ['top_feats_label', 'top_feats_all', 'plot_top_feats']\n",
    "\n",
    "def top_feats_label(X: np.ndarray, features: Collection[str], label_idx: Collection[bool] = None,\n",
    "                    min_val: float = 0.1, agg_func: Callable = np.mean)->pd.DataFrame:\n",
    "    \n",
    "  \n",
    "    res = X[label_idx] if label_idx is not None else X\n",
    "    res[res < min_val] = 0\n",
    "    res_agg = agg_func(res, axis=0)\n",
    "    df = pd.DataFrame([(features[i], res_agg[i]) for i in np.argsort(res_agg)[::-1]])\n",
    "    df.columns = ['feature','score']\n",
    "    df['ngram'] = df.feature.map(lambda x: len(set(x.split(' '))))\n",
    "    return df\n",
    "\n",
    "def top_feats_all(X: np.ndarray, y: np.ndarray, features: Collection[str], min_val: float = 0.1, \n",
    "                  agg_func: Callable = np.mean)->Collection[pd.DataFrame]:\n",
    "   \n",
    "    labels = np.unique(y)\n",
    "    dfs = []\n",
    "    for l in labels:\n",
    "        label_idx = (y==l)\n",
    "        df = top_feats_label(X,features,label_idx,min_val,agg_func).reset_index()\n",
    "        df['label'] = l\n",
    "        df.columns = ['rank','feature','score','ngram','label']\n",
    "        dfs.append(df)\n",
    "    return dfs\n",
    "\n",
    "def plot_top_feats(dfs: Collection[pd.DataFrame], top_n: int = 25, ngram_range: Tuple[int,int]=(1,2),)-> None:\n",
    "    \n",
    "    fig = plt.figure(figsize=(12, 9), facecolor=\"w\")\n",
    "    x = np.arange(top_n)\n",
    "    for i, df in enumerate(dfs):\n",
    "        df = df[(df.ngram>=ngram_range[0])&(df.ngram<=ngram_range[1])][:top_n]\n",
    "        ax = fig.add_subplot(1, len(dfs), i+1)\n",
    "        ax.spines[\"top\"].set_visible(False)\n",
    "        ax.spines[\"right\"].set_visible(False)\n",
    "        ax.set_frame_on(False)\n",
    "        ax.get_xaxis().tick_bottom()\n",
    "        ax.get_yaxis().tick_left()\n",
    "        ax.set_xlabel(\"score\", labelpad=16, fontsize=14)\n",
    "        ax.set_title(f\"label = {str(df.label[0])}\", fontsize=16)\n",
    "        ax.ticklabel_format(axis='x', style='sci', scilimits=(-2,2))\n",
    "        ax.barh(x, df.score, align='center', color='#3F5D7D')\n",
    "        ax.set_yticks(x)\n",
    "        ax.set_ylim([-1, x[-1]+1])\n",
    "        ax.invert_yaxis()\n",
    "        yticks = ax.set_yticklabels(df.feature)\n",
    "        plt.subplots_adjust(bottom=0.09, right=0.97, left=0.15, top=0.95, wspace=0.52)\n",
    "    plt.show()"
   ]
  },
  {
   "cell_type": "code",
   "execution_count": null,
   "id": "e442598f",
   "metadata": {},
   "outputs": [],
   "source": []
  }
 ],
 "metadata": {
  "kernelspec": {
   "display_name": "Python 3",
   "language": "python",
   "name": "python3"
  },
  "language_info": {
   "codemirror_mode": {
    "name": "ipython",
    "version": 3
   },
   "file_extension": ".py",
   "mimetype": "text/x-python",
   "name": "python",
   "nbconvert_exporter": "python",
   "pygments_lexer": "ipython3",
   "version": "3.6.13"
  }
 },
 "nbformat": 4,
 "nbformat_minor": 5
}
